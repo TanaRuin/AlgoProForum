{
  "nbformat": 4,
  "nbformat_minor": 0,
  "metadata": {
    "colab": {
      "provenance": []
    },
    "kernelspec": {
      "name": "python3",
      "display_name": "Python 3"
    },
    "language_info": {
      "name": "python"
    }
  },
  "cells": [
    {
      "cell_type": "code",
      "execution_count": 4,
      "metadata": {
        "colab": {
          "base_uri": "https://localhost:8080/"
        },
        "id": "XmYI5zUxkNm7",
        "outputId": "8a197094-8bf9-46ab-dc28-7f9375ff1739"
      },
      "outputs": [
        {
          "output_type": "stream",
          "name": "stdout",
          "text": [
            "Name: Lloyd\n",
            "Homework: [90.0, 97.0, 75.0, 92.0]\n",
            "Quizzes: [88.0, 40.0, 94.0]\n",
            "Tests: [75.0, 90.0]\n",
            "\n",
            "\n",
            "Name: Alice\n",
            "Homework: [100.0, 92.0, 98.0, 100.0]\n",
            "Quizzes: [82.0, 83.0, 91.0]\n",
            "Tests: [89.0, 97.0]\n",
            "\n",
            "\n",
            "Name: Tyler\n",
            "Homework: [0.0, 87.0, 75.0, 22.0]\n",
            "Quizzes: [0.0, 75.0, 78.0]\n",
            "Tests: [100.0, 100.0]\n",
            "\n",
            "\n",
            "Letter grade for Lloyd : B\n",
            "Class Average :  83.86666666666666\n",
            "Class Letter Grade :  B\n"
          ]
        }
      ],
      "source": [
        "#Forum Task 1\n",
        "\n",
        "lloyd = {\n",
        " \"name\": \"Lloyd\",\n",
        " \"homework\": [90.0,97.0,75.0,92.0],\n",
        " \"quizzes\": [88.0,40.0,94.0],\n",
        " \"tests\": [75.0,90.0]\n",
        "}\n",
        "alice = {\n",
        " \"name\": \"Alice\",\n",
        " \"homework\": [100.0, 92.0, 98.0, 100.0],\n",
        " \"quizzes\": [82.0, 83.0, 91.0],\n",
        " \"tests\": [89.0, 97.0]\n",
        "}\n",
        "tyler = {\n",
        " \"name\": \"Tyler\",\n",
        " \"homework\": [0.0, 87.0, 75.0, 22.0],\n",
        " \"quizzes\": [0.0, 75.0, 78.0],\n",
        " \"tests\": [100.0, 100.0]\n",
        "}\n",
        "\n",
        "#List with lloyd, alice, tyler\n",
        "students = [lloyd, alice, tyler]\n",
        "\n",
        "#Print the list\n",
        "for student in students:\n",
        "    print(\"Name:\", student[\"name\"])\n",
        "    print(\"Homework:\", student[\"homework\"])\n",
        "    print(\"Quizzes:\", student[\"quizzes\"])\n",
        "    print(\"Tests:\", student[\"tests\"])\n",
        "    print(\"\\n\")\n",
        "\n",
        "#Function to calculate\n",
        "def average(numbers):\n",
        "    total = float(sum(numbers))\n",
        "    return total / len(numbers)\n",
        "\n",
        "#Function for get_average\n",
        "def get_average(student):\n",
        "\n",
        "    # get average\n",
        "    homework = average(student[\"homework\"])\n",
        "    quizzes = average(student[\"quizzes\"])\n",
        "    tests = average(student[\"tests\"])\n",
        "\n",
        "    # get  weighted average\n",
        "    weighted_avg = (homework * 0.1) + (quizzes * 0.3) + (tests * 0.6)\n",
        "\n",
        "    return weighted_avg\n",
        "\n",
        "score = float\n",
        "#Function get_letter_grade\n",
        "def get_letter_grade(score):\n",
        "    if score >= 90:\n",
        "        return \"A\"\n",
        "    elif score >= 80:\n",
        "        return \"B\"\n",
        "    elif score >= 70:\n",
        "        return \"C\"\n",
        "    elif score >= 60:\n",
        "        return \"D\"\n",
        "    else:\n",
        "        return \"F\"\n",
        "\n",
        "#testing function\n",
        "print(\"Letter grade for Lloyd :\", get_letter_grade(get_average(lloyd)))\n",
        "\n",
        "def get_class_average(students):\n",
        "    results = []\n",
        "\n",
        "    # get student average and append to results\n",
        "    for student in students:\n",
        "        student_average = get_average(student)\n",
        "        results.append(student_average)\n",
        "\n",
        "    # use results to get class average\n",
        "    class_average = average(results)\n",
        "    return class_average\n",
        "\n",
        "\n",
        "#testing function\n",
        "print(\"Class Average : \", get_class_average(students))\n",
        "print(\"Class Letter Grade : \", get_letter_grade(get_class_average(students)))\n",
        "\n"
      ]
    },
    {
      "cell_type": "code",
      "source": [
        "##Forum Task 2\n",
        "\n",
        "#Create tuple\n",
        "\n",
        "course_numbers = (\"COP 2510\", \"EGN 3000L\", \"MAC 2281\", \"MUH 3016\", \"PHY 2048\")\n",
        "\n",
        "#First dictionary with tuple as key values\n",
        "\n",
        "course_name ={\n",
        "    \"COP 2510\" : \"Programming Concepts\",\n",
        "    \"EGN 3000L\": \"Foundations of Engineering Lab\",\n",
        "    \"MAC 2281\" : \"Calculus I\",\n",
        "    \"MUH 3016\" : \"Survey of Jazz\",\n",
        "    \"PHY 2048\" : \"General Physics I\"\n",
        "}\n",
        "\n",
        "#Second dictionary (instr)\n",
        "\n",
        "course_instructor = {\n",
        "     \"COP 2510\" : \"Z. Beasley\",\n",
        "     \"EGN 3000L\": \"J. Anderson\",\n",
        "     \"MAC 2281\" : \"A. Makaryus\",\n",
        "     \"MUH 3016\" : \"A. Wilkins\",\n",
        "     \"PHY 2048\" : \"G. Pradhan\"\n",
        "}\n",
        "\n",
        "#Third dictionary (time)\n",
        "course_time = {\n",
        "    'COP 2510': 'MW 12:30pm – 1:45pm',\n",
        "    'EGN 3000L': 'TR 11:00am – 12:15pm',\n",
        "    'MAC 2281': 'MW 9:30am – 10:45am',\n",
        "    'MUH 3016': 'online asynchronous',\n",
        "    'PHY 2048': 'TR 5:00pm – 6:15pm'\n",
        "}\n",
        "\n",
        "#Define a function to test the code\n",
        "def search_course():\n",
        "    course = input(\"Enter a course number: \")\n",
        "    if course in course_numbers:\n",
        "        print(f\"The course details are:\\nCourse Name: {course_name[course]}\\nInstructor: {course_instructor[course]}\\nClass Times: {course_time[course]}\")\n",
        "    else:\n",
        "        print(\"Course not found.\")\n",
        "\n",
        "# Call the function to search for a course\n",
        "search_course()"
      ],
      "metadata": {
        "colab": {
          "base_uri": "https://localhost:8080/"
        },
        "id": "EzFBxNgZtmgQ",
        "outputId": "d8dbc608-9860-48a5-9321-10370b2f067c"
      },
      "execution_count": 5,
      "outputs": [
        {
          "output_type": "stream",
          "name": "stdout",
          "text": [
            "Enter a course number: COP 2510\n",
            "The course details are:\n",
            "Course Name: Programming Concepts\n",
            "Instructor: Z. Beasley\n",
            "Class Times: MW 12:30pm – 1:45pm\n"
          ]
        }
      ]
    },
    {
      "cell_type": "code",
      "source": [
        "#Forum Task 3\n",
        "\n",
        "#Days of the week\n",
        "days = (\"Sunday\", \"Monday\", \"Tuesday\", \"Wednesday\", \"Thursday\", \"Friday\", \"Saturday\")\n",
        "\n",
        "#Empty list\n",
        "salesresult = []\n",
        "\n",
        "#For loop to input sales data\n",
        "for day in days:\n",
        "    while True:\n",
        "        try:\n",
        "            sales = float(input(f\"Enter the sales for {day}: $\"))\n",
        "            if sales >= 0:\n",
        "                salesresult.append(sales)\n",
        "                break\n",
        "            else:\n",
        "                print(\"Input was invalid. Re-enter the sales for\", day + \":\")\n",
        "        except ValueError:\n",
        "            print(\"Invalid input. Please enter a valid number.\")\n",
        "\n",
        "#Calculate total, minimum, and maximum sales\n",
        "totalsales = sum(salesresult)\n",
        "minsales = min(salesresult)\n",
        "maxsales = max(salesresult)\n",
        "\n",
        "#Format sales result with currency formatting\n",
        "formatted_salesresult = [\"${:,.2f}\".format(sale) for sale in salesresult]\n",
        "\n",
        "#Output results\n",
        "print(\"\\nThe total sales is:\", \"${:,.2f}\".format(totalsales))\n",
        "print(\"The minimum sale amount was:\", formatted_salesresult[salesresult.index(minsales)])\n",
        "print(\"The maximum sale amount was:\", formatted_salesresult[salesresult.index(maxsales)])\n"
      ],
      "metadata": {
        "colab": {
          "base_uri": "https://localhost:8080/"
        },
        "id": "5_uKSJjiqvnC",
        "outputId": "dce52dd9-6b88-4877-88b7-0583e3d3aa45"
      },
      "execution_count": 6,
      "outputs": [
        {
          "output_type": "stream",
          "name": "stdout",
          "text": [
            "Enter the sales for Sunday: $3000\n",
            "Enter the sales for Monday: $1000\n",
            "Enter the sales for Tuesday: $1500\\\n",
            "Invalid input. Please enter a valid number.\n",
            "Enter the sales for Tuesday: $1500\n",
            "Enter the sales for Wednesday: $1000\n",
            "Enter the sales for Thursday: $2000\n",
            "Enter the sales for Friday: $3000\n",
            "Enter the sales for Saturday: $4000\n",
            "\n",
            "The total sales is: $15,500.00\n",
            "The minimum sale amount was: $1,000.00\n",
            "The maximum sale amount was: $4,000.00\n"
          ]
        }
      ]
    },
    {
      "cell_type": "code",
      "source": [
        "#Forum Task 4\n",
        "\n",
        "#Morse code dictionary (dictionary)\n",
        "morsedict = {\n",
        "    'A': '.-', 'B': '-...', 'C': '-.-.', 'D': '-..', 'E': '.', 'F': '..-.', 'G': '--.', 'H': '....',\n",
        "    'I': '..', 'J': '.---', 'K': '-.-', 'L': '.-..', 'M': '--', 'N': '-.', 'O': '---', 'P': '.--.',\n",
        "    'Q': '--.-', 'R': '.-.', 'S': '...', 'T': '-', 'U': '..-', 'V': '...-', 'W': '.--', 'X': '-..-',\n",
        "    'Y': '-.--', 'Z': '--..', '1': '.----', '2': '..---', '3': '...--', '4': '....-', '5': '.....',\n",
        "    '6': '-....', '7': '--...', '8': '---..', '9': '----.', '0': '-----', ' ': ' '\n",
        "}\n",
        "\n",
        "#Function to convert text to Morse code\n",
        "def text_to_morse(text):\n",
        "    morse_code_output = \"\"\n",
        "    for char in text.upper():\n",
        "        morse_code_output += morsedict.get(char, '') + ' '\n",
        "    return morse_code_output\n",
        "\n",
        "#User input\n",
        "user_input = input(\"Enter the string to be converted to Morse code: \")\n",
        "\n",
        "#Convert user input to Morse code\n",
        "morse_code_output = text_to_morse(user_input)\n",
        "\n",
        "#Print result Morse code\n",
        "print(\"Morse code : \")\n",
        "print(morse_code_output)"
      ],
      "metadata": {
        "colab": {
          "base_uri": "https://localhost:8080/"
        },
        "id": "hrAtcEmMrWem",
        "outputId": "7e47a431-681e-411f-8abf-fa1045528f6b"
      },
      "execution_count": 7,
      "outputs": [
        {
          "output_type": "stream",
          "name": "stdout",
          "text": [
            "Enter the string to be converted to Morse code: I love computer science\n",
            "Morse code : \n",
            "..   .-.. --- ...- .   -.-. --- -- .--. ..- - . .-.   ... -.-. .. . -. -.-. . \n"
          ]
        }
      ]
    }
  ]
}